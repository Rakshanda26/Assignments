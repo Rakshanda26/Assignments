{
 "cells": [
  {
   "cell_type": "markdown",
   "metadata": {
    "id": "gERTae2llhMA"
   },
   "source": [
    "**1. What are escape characters, and how do you use them?**"
   ]
  },
  {
   "cell_type": "markdown",
   "metadata": {
    "id": "XMJtQTq6ly6a"
   },
   "source": [
    "Escape characters allows you to enter special characters in a string. It begins with \\ backslash and follwed by any character like:\n",
    "* t - for tab\n",
    "* n - for new line\n",
    "* r - carriage return\n",
    "* b - backspace\n",
    "* f - form feed"
   ]
  },
  {
   "cell_type": "markdown",
   "metadata": {
    "id": "YREau6ehmfPO"
   },
   "source": [
    "**2. What do the escape characters n and t stand for?**"
   ]
  },
  {
   "cell_type": "markdown",
   "metadata": {
    "id": "fQbAkg48mlj-"
   },
   "source": [
    "* t - for tab\n",
    "* n - for new line"
   ]
  },
  {
   "cell_type": "markdown",
   "metadata": {
    "id": "WfBHdRtVmsvf"
   },
   "source": [
    "**3. What is the way to include backslash characters in a string?**"
   ]
  },
  {
   "cell_type": "markdown",
   "metadata": {
    "id": "DNDtWZyLmvJ_"
   },
   "source": [
    "The backslash will be included in the string using below:\n",
    "\n",
    "double backslash \"\\\\\""
   ]
  },
  {
   "cell_type": "markdown",
   "metadata": {
    "id": "__REPc_RnZdB"
   },
   "source": [
    "**4. The string &quot;Howl&#39;s Moving Castle&quot; is a correct value. Why isn&#39;t the single quote character in the\n",
    "word Howl&#39;s not escaped a problem?**"
   ]
  },
  {
   "cell_type": "code",
   "execution_count": 1,
   "metadata": {
    "id": "h9q1D_WtlM5I"
   },
   "outputs": [],
   "source": [
    "s = \"Howl's moving castle\""
   ]
  },
  {
   "cell_type": "markdown",
   "metadata": {
    "id": "snnHUH0mn4cu"
   },
   "source": [
    "Because it is enclosed within double quotes. So it will be considered without any issues"
   ]
  },
  {
   "cell_type": "markdown",
   "metadata": {
    "id": "8wVJUDqtoKNP"
   },
   "source": [
    "**5. How do you write a string of newlines if you don&#39;t want to use the n character?**"
   ]
  },
  {
   "cell_type": "code",
   "execution_count": 1,
   "metadata": {
    "id": "OWDWvaBKn0Qm"
   },
   "outputs": [],
   "source": [
    "s = \"\"\"Hello -\n",
    "How are you\"\"\""
   ]
  },
  {
   "cell_type": "code",
   "execution_count": 2,
   "metadata": {
    "colab": {
     "base_uri": "https://localhost:8080/",
     "height": 35
    },
    "id": "YgIZ5CYjoYrL",
    "outputId": "5d03aac6-f125-47c4-92ed-01c7005d53d7"
   },
   "outputs": [
    {
     "data": {
      "text/plain": [
       "'Hello -\\nHow are you'"
      ]
     },
     "execution_count": 2,
     "metadata": {},
     "output_type": "execute_result"
    }
   ],
   "source": [
    "s"
   ]
  },
  {
   "cell_type": "code",
   "execution_count": 8,
   "metadata": {
    "colab": {
     "base_uri": "https://localhost:8080/"
    },
    "id": "Kla7mFQ9oiRJ",
    "outputId": "4961c6ad-a41c-4e05-8587-0eee10724684"
   },
   "outputs": [
    {
     "name": "stdout",
     "output_type": "stream",
     "text": [
      "Hello \n",
      "How are you\n"
     ]
    },
    {
     "data": {
      "text/plain": [
       "(None, None)"
      ]
     },
     "execution_count": 8,
     "metadata": {},
     "output_type": "execute_result"
    }
   ],
   "source": [
    "print(\"Hello \", end = '\\n'), print(\"How are you\")"
   ]
  },
  {
   "cell_type": "markdown",
   "metadata": {
    "id": "fbALWBnTqzri"
   },
   "source": [
    "**6. What are the values of the given expressions?**\n",
    "\n",
    "&#39;Hello, world!&#39;[1]\n",
    "\n",
    "&#39;Hello, world!&#39;[0:5]\n",
    "\n",
    "&#39;Hello, world!&#39;[:5]\n",
    "\n",
    "&#39;Hello, world!&#39;[3:]"
   ]
  },
  {
   "cell_type": "markdown",
   "metadata": {
    "id": "hjlHTY-srOSS"
   },
   "source": [
    "\"Hello, world!\"[1] - prints 'e'"
   ]
  },
  {
   "cell_type": "code",
   "execution_count": 9,
   "metadata": {
    "colab": {
     "base_uri": "https://localhost:8080/",
     "height": 35
    },
    "id": "mh4gJ1A6qs5b",
    "outputId": "279becbb-1235-43f7-fec5-b3f45b58fbd8"
   },
   "outputs": [
    {
     "data": {
      "application/vnd.google.colaboratory.intrinsic+json": {
       "type": "string"
      },
      "text/plain": [
       "'e'"
      ]
     },
     "execution_count": 9,
     "metadata": {},
     "output_type": "execute_result"
    }
   ],
   "source": [
    "\"Hello, world!\"[1]"
   ]
  },
  {
   "cell_type": "markdown",
   "metadata": {
    "id": "oMdc2fP6rb5E"
   },
   "source": [
    "\"Hello, world!\"[0:5] - prints 'Hello'"
   ]
  },
  {
   "cell_type": "code",
   "execution_count": 10,
   "metadata": {
    "colab": {
     "base_uri": "https://localhost:8080/",
     "height": 35
    },
    "id": "RUO8lv65rS7w",
    "outputId": "d83ceab3-1028-4bd4-dc50-6b71f3b7a2c4"
   },
   "outputs": [
    {
     "data": {
      "application/vnd.google.colaboratory.intrinsic+json": {
       "type": "string"
      },
      "text/plain": [
       "'Hello'"
      ]
     },
     "execution_count": 10,
     "metadata": {},
     "output_type": "execute_result"
    }
   ],
   "source": [
    "\"Hello, world!\"[0:5]"
   ]
  },
  {
   "cell_type": "markdown",
   "metadata": {
    "id": "kBZuvH47roiJ"
   },
   "source": [
    "\"Hello, world!\"[:5] - prints 'Hello'"
   ]
  },
  {
   "cell_type": "code",
   "execution_count": 11,
   "metadata": {
    "colab": {
     "base_uri": "https://localhost:8080/",
     "height": 35
    },
    "id": "00nI97UjriQL",
    "outputId": "aa3e488e-7223-4362-d7e3-13730f6635e0"
   },
   "outputs": [
    {
     "data": {
      "application/vnd.google.colaboratory.intrinsic+json": {
       "type": "string"
      },
      "text/plain": [
       "'Hello'"
      ]
     },
     "execution_count": 11,
     "metadata": {},
     "output_type": "execute_result"
    }
   ],
   "source": [
    "\"Hello, world!\"[:5]"
   ]
  },
  {
   "cell_type": "code",
   "execution_count": 13,
   "metadata": {
    "colab": {
     "base_uri": "https://localhost:8080/",
     "height": 35
    },
    "id": "lrgOLQ8jrwTN",
    "outputId": "53c770a6-c102-4393-b113-7c1616ad4e6b"
   },
   "outputs": [
    {
     "data": {
      "application/vnd.google.colaboratory.intrinsic+json": {
       "type": "string"
      },
      "text/plain": [
       "'lo, world!'"
      ]
     },
     "execution_count": 13,
     "metadata": {},
     "output_type": "execute_result"
    }
   ],
   "source": [
    "\"Hello, world!\"[3:]"
   ]
  },
  {
   "cell_type": "markdown",
   "metadata": {
    "id": "TBoNENBJsSIX"
   },
   "source": [
    "**7. What are the values of the following expressions?**\n",
    "\n",
    "&#39;Hello&#39;.upper()\n",
    "\n",
    "&#39;Hello&#39;.upper().isupper()\n",
    "\n",
    "&#39;Hello&#39;.upper().lower()"
   ]
  },
  {
   "cell_type": "markdown",
   "metadata": {
    "id": "L08mSQy6smVc"
   },
   "source": [
    "'Hello'.upper() - prints \"HELLO\""
   ]
  },
  {
   "cell_type": "code",
   "execution_count": 14,
   "metadata": {
    "colab": {
     "base_uri": "https://localhost:8080/",
     "height": 35
    },
    "id": "Gxo1Mw0jr-OV",
    "outputId": "59fe2f7f-a33c-432d-c95a-89d3c1e5a6f3"
   },
   "outputs": [
    {
     "data": {
      "application/vnd.google.colaboratory.intrinsic+json": {
       "type": "string"
      },
      "text/plain": [
       "'HELLO'"
      ]
     },
     "execution_count": 14,
     "metadata": {},
     "output_type": "execute_result"
    }
   ],
   "source": [
    "'Hello'.upper()"
   ]
  },
  {
   "cell_type": "markdown",
   "metadata": {
    "id": "hxE6EaSJsrTG"
   },
   "source": [
    "'Hello'.upper().isupper() - Prints \"True\""
   ]
  },
  {
   "cell_type": "code",
   "execution_count": 15,
   "metadata": {
    "colab": {
     "base_uri": "https://localhost:8080/"
    },
    "id": "Ls21_DyWsZxg",
    "outputId": "ea9f1a73-c4f7-4c62-e0dd-5c9f83b5663b"
   },
   "outputs": [
    {
     "data": {
      "text/plain": [
       "True"
      ]
     },
     "execution_count": 15,
     "metadata": {},
     "output_type": "execute_result"
    }
   ],
   "source": [
    "'Hello'.upper().isupper()"
   ]
  },
  {
   "cell_type": "markdown",
   "metadata": {
    "id": "2zNrb9RMswQA"
   },
   "source": [
    "'Hello'.upper().lower() - prints \"hello\""
   ]
  },
  {
   "cell_type": "code",
   "execution_count": 16,
   "metadata": {
    "colab": {
     "base_uri": "https://localhost:8080/",
     "height": 35
    },
    "id": "wJl8tOuksfQz",
    "outputId": "6e73c000-f86c-4e9f-82d9-d68459e05ef2"
   },
   "outputs": [
    {
     "data": {
      "application/vnd.google.colaboratory.intrinsic+json": {
       "type": "string"
      },
      "text/plain": [
       "'hello'"
      ]
     },
     "execution_count": 16,
     "metadata": {},
     "output_type": "execute_result"
    }
   ],
   "source": [
    "'Hello'.upper().lower()"
   ]
  },
  {
   "cell_type": "markdown",
   "metadata": {
    "id": "HxwLdVoQtNOQ"
   },
   "source": [
    "**8. What are the values of the following expressions?**\n",
    "\n",
    "&#39;Remember, remember, the fifth of July.&#39;.split()\n",
    "\n",
    "&#39;-&#39;.join(&#39;There can only one.&#39;.split())"
   ]
  },
  {
   "cell_type": "markdown",
   "metadata": {
    "id": "BWQ822K9tbUS"
   },
   "source": [
    "&#39;Remember, remember, the fifth of July.&#39;.split() - The values will be ['Remember','remember,','the','fifth','of','July.']"
   ]
  },
  {
   "cell_type": "code",
   "execution_count": 17,
   "metadata": {
    "colab": {
     "base_uri": "https://localhost:8080/"
    },
    "id": "3Rqa8Iovsk2r",
    "outputId": "2a0c1e8e-e5a2-4259-8bea-f11d8cb46940"
   },
   "outputs": [
    {
     "data": {
      "text/plain": [
       "['Remember,', 'remember,', 'the', 'fifth', 'of', 'July.']"
      ]
     },
     "execution_count": 17,
     "metadata": {},
     "output_type": "execute_result"
    }
   ],
   "source": [
    "'Remember, remember, the fifth of July.'.split()"
   ]
  },
  {
   "cell_type": "markdown",
   "metadata": {
    "id": "onEUjTZyt8Qa"
   },
   "source": [
    "&#39;-&#39;.join(&#39;There can only one.&#39;.split()) - The value will be \"There-can-only-one.\""
   ]
  },
  {
   "cell_type": "code",
   "execution_count": 18,
   "metadata": {
    "colab": {
     "base_uri": "https://localhost:8080/",
     "height": 35
    },
    "id": "EPGjKPlgtyl2",
    "outputId": "f6223816-13d8-41b3-dec7-16238ed201af"
   },
   "outputs": [
    {
     "data": {
      "application/vnd.google.colaboratory.intrinsic+json": {
       "type": "string"
      },
      "text/plain": [
       "'There-can-only-one.'"
      ]
     },
     "execution_count": 18,
     "metadata": {},
     "output_type": "execute_result"
    }
   ],
   "source": [
    "'-'.join('There can only one.'.split())"
   ]
  },
  {
   "cell_type": "markdown",
   "metadata": {
    "id": "J0yoSsWGuRE5"
   },
   "source": [
    "**9. What are the methods for right-justifying, left-justifying, and centering a string?**"
   ]
  },
  {
   "cell_type": "code",
   "execution_count": 19,
   "metadata": {
    "colab": {
     "base_uri": "https://localhost:8080/"
    },
    "id": "3yx2tW8UuM1a",
    "outputId": "bf390597-25f8-4ab6-bfdd-ae7adce002c3"
   },
   "outputs": [
    {
     "name": "stdout",
     "output_type": "stream",
     "text": [
      "              Hello World               \n"
     ]
    }
   ],
   "source": [
    "s1 = \"Hello World\"\n",
    "print(s1.center(40))"
   ]
  },
  {
   "cell_type": "code",
   "execution_count": 20,
   "metadata": {
    "colab": {
     "base_uri": "https://localhost:8080/"
    },
    "id": "I9TeydOkuyxd",
    "outputId": "5a4bbf0e-f9bb-42fa-b4f6-9484c8eb8b93"
   },
   "outputs": [
    {
     "name": "stdout",
     "output_type": "stream",
     "text": [
      "Hello World                             \n"
     ]
    }
   ],
   "source": [
    "s1 = \"Hello World\"\n",
    "print(s1.ljust(40))"
   ]
  },
  {
   "cell_type": "code",
   "execution_count": 21,
   "metadata": {
    "colab": {
     "base_uri": "https://localhost:8080/"
    },
    "id": "AHnXdvjHu7Qv",
    "outputId": "d030a213-9244-4583-e0e3-fbcf7a0b537a"
   },
   "outputs": [
    {
     "name": "stdout",
     "output_type": "stream",
     "text": [
      "                             Hello World\n"
     ]
    }
   ],
   "source": [
    "s1 = \"Hello World\"\n",
    "print(s1.rjust(40))"
   ]
  },
  {
   "cell_type": "markdown",
   "metadata": {
    "id": "cqPPqFOivDGS"
   },
   "source": [
    "**10. What is the best way to remove whitespace characters from the start or end?**"
   ]
  },
  {
   "cell_type": "code",
   "execution_count": 23,
   "metadata": {
    "colab": {
     "base_uri": "https://localhost:8080/",
     "height": 35
    },
    "id": "bU-lBWo5u9x4",
    "outputId": "52ec5e58-8a6c-48d7-dcd3-b55e276ab2a1"
   },
   "outputs": [
    {
     "data": {
      "application/vnd.google.colaboratory.intrinsic+json": {
       "type": "string"
      },
      "text/plain": [
       "'hello world it is a new beggining hey!'"
      ]
     },
     "execution_count": 23,
     "metadata": {},
     "output_type": "execute_result"
    }
   ],
   "source": [
    "vv = \"   hello world it is a new beggining hey!  \"\n",
    "vv.strip()"
   ]
  },
  {
   "cell_type": "code",
   "execution_count": null,
   "metadata": {
    "id": "3Til6I_fxyzc"
   },
   "outputs": [],
   "source": []
  }
 ],
 "metadata": {
  "colab": {
   "collapsed_sections": [],
   "name": "assignment_6.ipynb",
   "provenance": []
  },
  "kernelspec": {
   "display_name": "Python 3 (ipykernel)",
   "language": "python",
   "name": "python3"
  },
  "language_info": {
   "codemirror_mode": {
    "name": "ipython",
    "version": 3
   },
   "file_extension": ".py",
   "mimetype": "text/x-python",
   "name": "python",
   "nbconvert_exporter": "python",
   "pygments_lexer": "ipython3",
   "version": "3.9.7"
  }
 },
 "nbformat": 4,
 "nbformat_minor": 1
}

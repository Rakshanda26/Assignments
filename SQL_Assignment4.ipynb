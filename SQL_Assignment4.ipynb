{
 "cells": [
  {
   "cell_type": "markdown",
   "metadata": {
    "id": "Xr2w6muUG7Vn"
   },
   "source": [
    "**Q-1. Write an SQL query to print the FIRST_NAME from Worker table after replacing ‘a’\n",
    "with ‘A’.**"
   ]
  },
  {
   "cell_type": "markdown",
   "metadata": {
    "id": "mJjiCk8NHlb_"
   },
   "source": [
    "Select REPLACE(FIRST_NAME,'a','A') from Worker;"
   ]
  },
  {
   "cell_type": "markdown",
   "metadata": {
    "id": "YNy6GfSTHo2F"
   },
   "source": [
    "**Q-2. Write an SQL query to print all Worker details from the Worker table order by\n",
    "FIRST_NAME Ascending and DEPARTMENT Descending.**"
   ]
  },
  {
   "cell_type": "markdown",
   "metadata": {
    "id": "ig3F35rSISPd"
   },
   "source": [
    "Select * from Worker order by FIRST_NAME asc,DEPARTMENT desc;"
   ]
  },
  {
   "cell_type": "markdown",
   "metadata": {
    "id": "jGhemqmNHvU_"
   },
   "source": [
    "**Q-3. Write an SQL query to fetch the names of workers who earn the highest salary.**"
   ]
  },
  {
   "cell_type": "markdown",
   "metadata": {
    "id": "LEDMHhZfIXK8"
   },
   "source": [
    "select * from(select FIRST_NAME, SALARY, DEPARTMENT, rank() \n",
    "OVER (partition by DEPARTMENT order by SALARY DESC) AS 'ROW_NUM' FROM WORKER) AS TEST WHERE ROW_NUM=1;"
   ]
  },
  {
   "cell_type": "code",
   "execution_count": null,
   "metadata": {
    "id": "p76cnW0GG24Y"
   },
   "outputs": [],
   "source": []
  }
 ],
 "metadata": {
  "colab": {
   "collapsed_sections": [],
   "name": "Assignment_4_SQL.ipynb",
   "provenance": []
  },
  "kernelspec": {
   "display_name": "Python 3 (ipykernel)",
   "language": "python",
   "name": "python3"
  },
  "language_info": {
   "codemirror_mode": {
    "name": "ipython",
    "version": 3
   },
   "file_extension": ".py",
   "mimetype": "text/x-python",
   "name": "python",
   "nbconvert_exporter": "python",
   "pygments_lexer": "ipython3",
   "version": "3.9.7"
  }
 },
 "nbformat": 4,
 "nbformat_minor": 1
}

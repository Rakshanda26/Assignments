{
 "cells": [
  {
   "cell_type": "markdown",
   "id": "91a0da24",
   "metadata": {},
   "source": [
    "**Q-17. Write an SQL query to show the top n (say 10) records of a table.**"
   ]
  },
  {
   "cell_type": "markdown",
   "id": "8044a9a4",
   "metadata": {},
   "source": [
    "SELECT * FROM <table> LIMIT 10;"
   ]
  },
  {
   "cell_type": "markdown",
   "id": "f21a22c8",
   "metadata": {},
   "source": [
    "**Q-18. Write an SQL query to determine the nth (say n=5) highest salary from a table.**"
   ]
  },
  {
   "cell_type": "markdown",
   "id": "0dc81c79",
   "metadata": {},
   "source": [
    "\n",
    "select * from(select FIRST_NAME, SALARY, DEPARTMENT, dense_rank() \n",
    "OVER (order by SALARY DESC) AS 'DEN_RANK' FROM WORKER) AS TEST WHERE DEN_RANK = 5;\n"
   ]
  },
  {
   "cell_type": "markdown",
   "id": "f24b3384",
   "metadata": {},
   "source": []
  },
  {
   "cell_type": "markdown",
   "id": "ec31dea5",
   "metadata": {},
   "source": []
  }
 ],
 "metadata": {
  "kernelspec": {
   "display_name": "Python 3 (ipykernel)",
   "language": "python",
   "name": "python3"
  },
  "language_info": {
   "codemirror_mode": {
    "name": "ipython",
    "version": 3
   },
   "file_extension": ".py",
   "mimetype": "text/x-python",
   "name": "python",
   "nbconvert_exporter": "python",
   "pygments_lexer": "ipython3",
   "version": "3.9.7"
  }
 },
 "nbformat": 4,
 "nbformat_minor": 5
}

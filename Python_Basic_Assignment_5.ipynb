{
 "cells": [
  {
   "cell_type": "markdown",
   "metadata": {
    "id": "8OWud3vUV3Gr"
   },
   "source": [
    "**1. What does an empty dictionary&#39;s code look like?**"
   ]
  },
  {
   "cell_type": "code",
   "execution_count": 1,
   "metadata": {
    "id": "DY1ROJc0VvUC"
   },
   "outputs": [],
   "source": [
    "d = {}"
   ]
  },
  {
   "cell_type": "code",
   "execution_count": 2,
   "metadata": {
    "colab": {
     "base_uri": "https://localhost:8080/"
    },
    "id": "G8TW-N4fWAGo",
    "outputId": "1c934d7d-7522-4899-9e96-6bb2079f275e"
   },
   "outputs": [
    {
     "name": "stdout",
     "output_type": "stream",
     "text": [
      "<class 'dict'>\n"
     ]
    }
   ],
   "source": [
    "print(type(d))"
   ]
  },
  {
   "cell_type": "markdown",
   "metadata": {
    "id": "T5krWJYDWFF0"
   },
   "source": [
    "**2. What is the value of a dictionary value with the key &#39;foo&#39; and the value 42?**"
   ]
  },
  {
   "cell_type": "markdown",
   "metadata": {
    "id": "oyazet3zWN2r"
   },
   "source": [
    "42"
   ]
  },
  {
   "cell_type": "markdown",
   "metadata": {
    "id": "iuMFXRwsWQOZ"
   },
   "source": [
    "**3. What is the most significant distinction between a dictionary and a list?**"
   ]
  },
  {
   "cell_type": "markdown",
   "metadata": {
    "id": "HHCsWCSzWhix"
   },
   "source": [
    "List is a collection of index value pairs. Whereas dictionary is a collection of key value pairs.\n",
    "\n",
    "The indicies of list starts with 0 whereas dictionary keys are of anything\n",
    "\n",
    "Element in list can be accessed via index. Element in dictionary can be accessed via keys"
   ]
  },
  {
   "cell_type": "markdown",
   "metadata": {
    "id": "_wAYdJxFXSBV"
   },
   "source": [
    "**4. What happens if you try to access spam[&#39;foo&#39;] if spam is {&#39;bar&#39;: 100}?**"
   ]
  },
  {
   "cell_type": "markdown",
   "metadata": {
    "id": "BEoihxXvXW7p"
   },
   "source": [
    "key error will be thrown"
   ]
  },
  {
   "cell_type": "code",
   "execution_count": 3,
   "metadata": {
    "colab": {
     "base_uri": "https://localhost:8080/",
     "height": 183
    },
    "id": "JbLMkC-pWD8w",
    "outputId": "569649b1-d489-4c35-beef-fabbae071deb"
   },
   "outputs": [
    {
     "ename": "KeyError",
     "evalue": "ignored",
     "output_type": "error",
     "traceback": [
      "\u001b[0;31m---------------------------------------------------------------------------\u001b[0m",
      "\u001b[0;31mKeyError\u001b[0m                                  Traceback (most recent call last)",
      "\u001b[0;32m<ipython-input-3-cea1cd791e68>\u001b[0m in \u001b[0;36m<module>\u001b[0;34m()\u001b[0m\n\u001b[1;32m      1\u001b[0m \u001b[0mspam\u001b[0m \u001b[0;34m=\u001b[0m \u001b[0;34m{\u001b[0m\u001b[0;34m'bar'\u001b[0m\u001b[0;34m:\u001b[0m\u001b[0;36m100\u001b[0m\u001b[0;34m}\u001b[0m\u001b[0;34m\u001b[0m\u001b[0;34m\u001b[0m\u001b[0m\n\u001b[0;32m----> 2\u001b[0;31m \u001b[0mspam\u001b[0m\u001b[0;34m[\u001b[0m\u001b[0;34m'foo'\u001b[0m\u001b[0;34m]\u001b[0m\u001b[0;34m\u001b[0m\u001b[0;34m\u001b[0m\u001b[0m\n\u001b[0m",
      "\u001b[0;31mKeyError\u001b[0m: 'foo'"
     ]
    }
   ],
   "source": [
    "spam = {'bar':100}\n",
    "spam['foo']"
   ]
  },
  {
   "cell_type": "markdown",
   "metadata": {
    "id": "yKFQN1WwXlMh"
   },
   "source": [
    "**5. If a dictionary is stored in spam, what is the difference between the expressions &#39;cat&#39; in spam and\n",
    "&#39;cat&#39; in spam.keys()?**"
   ]
  },
  {
   "cell_type": "markdown",
   "metadata": {
    "id": "8T-mg9hyYaLC"
   },
   "source": [
    "Both will be same. IT will search in the keys of the dictionary"
   ]
  },
  {
   "cell_type": "code",
   "execution_count": 3,
   "metadata": {
    "id": "12-nFNSEXep_"
   },
   "outputs": [],
   "source": [
    "spam = {'c':'kitten', 'dog' : 'puppy', 'b' : 'cat'}\n",
    "\n",
    "if 'cat' in spam:\n",
    "  print('yes')\n",
    "\n",
    "if 'cat' in spam.keys():\n",
    "  print('yes')"
   ]
  },
  {
   "cell_type": "markdown",
   "metadata": {
    "id": "9xFI8n7_Yo5i"
   },
   "source": [
    "**6. If a dictionary is stored in spam, what is the difference between the expressions &#39;cat&#39; in spam and\n",
    "&#39;cat&#39; in spam.values()?**"
   ]
  },
  {
   "cell_type": "markdown",
   "metadata": {
    "id": "jbOqZ-ARYx5h"
   },
   "source": [
    "'cat' in spam check the value cat in keys of the dictionary\n",
    "\n",
    "'cat' in spam.values() will check the value cat in the values of the dictionary"
   ]
  },
  {
   "cell_type": "markdown",
   "metadata": {
    "id": "CRvTj4ekaxA8"
   },
   "source": [
    "**7. What is a shortcut for the following code?\n",
    "if &#39;color&#39; not in spam:\n",
    "spam[&#39;color&#39;] = &#39;black&#39;**"
   ]
  },
  {
   "cell_type": "code",
   "execution_count": 9,
   "metadata": {
    "colab": {
     "base_uri": "https://localhost:8080/",
     "height": 35
    },
    "id": "raTHeAR_YIfY",
    "outputId": "ec7f5695-b2c3-4a1b-9bf5-f54d143d98fa"
   },
   "outputs": [
    {
     "data": {
      "application/vnd.google.colaboratory.intrinsic+json": {
       "type": "string"
      },
      "text/plain": [
       "'black'"
      ]
     },
     "execution_count": 9,
     "metadata": {},
     "output_type": "execute_result"
    }
   ],
   "source": [
    "spam.setdefault('color', 'black')"
   ]
  },
  {
   "cell_type": "markdown",
   "metadata": {
    "id": "FJAOEhGHa_Bq"
   },
   "source": [
    "**8. How do you &quot;pretty print&quot; dictionary values using which module and function?**"
   ]
  },
  {
   "cell_type": "markdown",
   "metadata": {
    "id": "ZsLrH7ePbCva"
   },
   "source": [
    "Pprint( ) and pformat( )"
   ]
  },
  {
   "cell_type": "code",
   "execution_count": null,
   "metadata": {
    "id": "dF9lAweAa3X0"
   },
   "outputs": [],
   "source": []
  }
 ],
 "metadata": {
  "colab": {
   "collapsed_sections": [],
   "name": "assignment-5.ipynb",
   "provenance": []
  },
  "kernelspec": {
   "display_name": "Python 3 (ipykernel)",
   "language": "python",
   "name": "python3"
  },
  "language_info": {
   "codemirror_mode": {
    "name": "ipython",
    "version": 3
   },
   "file_extension": ".py",
   "mimetype": "text/x-python",
   "name": "python",
   "nbconvert_exporter": "python",
   "pygments_lexer": "ipython3",
   "version": "3.9.7"
  }
 },
 "nbformat": 4,
 "nbformat_minor": 1
}

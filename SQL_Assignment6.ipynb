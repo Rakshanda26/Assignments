{
 "cells": [
  {
   "cell_type": "markdown",
   "metadata": {
    "id": "gSQYPShwN_yQ"
   },
   "source": [
    "**1. Write an SQL query to print details of the Workers who have joined in Feb’2014.**"
   ]
  },
  {
   "cell_type": "markdown",
   "metadata": {
    "id": "Sd2BtamLN_Le"
   },
   "source": [
    "Select * from Worker where year(JOINING_DATE) = 2014 and month(JOINING_DATE) = 2;"
   ]
  },
  {
   "cell_type": "markdown",
   "metadata": {
    "id": "e-eqZYVWSjOC"
   },
   "source": [
    "**2. Write an SQL query to fetch duplicate records having matching data in some fields of\n",
    "a table.**"
   ]
  },
  {
   "cell_type": "markdown",
   "metadata": {
    "id": "D8rVouGuSs4S"
   },
   "source": [
    "SELECT WORKER_TITLE, AFFECTED_FROM, COUNT(\\*) FROM Title\n",
    "GROUP BY WORKER_TITLE, AFFECTED_FROM\n",
    "HAVING COUNT(\\*) > 1;"
   ]
  },
  {
   "cell_type": "markdown",
   "metadata": {
    "id": "CgIXhQLLYt6D"
   },
   "source": [
    "**3. How to remove duplicate rows from Employees table.**"
   ]
  },
  {
   "cell_type": "markdown",
   "metadata": {
    "id": "wbIKRPk6ZTIL"
   },
   "source": [
    "1. delete x from (\n",
    "  select *, rn=row_number() over (partition by EmployeeName order by empId)\n",
    "  from Employee \n",
    ") x\n",
    "where rn > 1;"
   ]
  },
  {
   "cell_type": "markdown",
   "metadata": {
    "id": "FU40gBTuNUaI"
   },
   "source": [
    "2. WITH WORKERCTE AS\n",
    "(\n",
    "   SELECT  *, ROW_NUMBER() OVER (PARTITION BY WORKER_ID ORDER BY WORKER_ID) AS ROWNUMBER \n",
    "   FROM WORKER\n",
    ")\n",
    "DELETE FROM WORKERCTE WHERE ROWNUMBER >1;"
   ]
  },
  {
   "cell_type": "code",
   "execution_count": null,
   "metadata": {},
   "outputs": [],
   "source": []
  }
 ],
 "metadata": {
  "colab": {
   "collapsed_sections": [],
   "name": "Assignment_6_SQL.ipynb",
   "provenance": []
  },
  "kernelspec": {
   "display_name": "Python 3 (ipykernel)",
   "language": "python",
   "name": "python3"
  },
  "language_info": {
   "codemirror_mode": {
    "name": "ipython",
    "version": 3
   },
   "file_extension": ".py",
   "mimetype": "text/x-python",
   "name": "python",
   "nbconvert_exporter": "python",
   "pygments_lexer": "ipython3",
   "version": "3.9.7"
  }
 },
 "nbformat": 4,
 "nbformat_minor": 1
}

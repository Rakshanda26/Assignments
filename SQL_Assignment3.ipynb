{
 "cells": [
  {
   "cell_type": "markdown",
   "metadata": {
    "id": "75PuDYgtbp1i"
   },
   "source": [
    "**Q-1. Write an SQL query to print the FIRST_NAME from Worker table after removing\n",
    "white spaces from the right side.**"
   ]
  },
  {
   "cell_type": "markdown",
   "metadata": {
    "id": "Ykil8KK9byJM"
   },
   "source": [
    "SELECT RTRIM(FIRST_NAME) FROM WORKER"
   ]
  },
  {
   "cell_type": "markdown",
   "metadata": {
    "id": "rjpCfykMcFdj"
   },
   "source": [
    "**Q-2. Write an SQL query that fetches the unique values of DEPARTMENT from Worker\n",
    "table and prints its length.**"
   ]
  },
  {
   "cell_type": "markdown",
   "metadata": {
    "id": "4tnGIctXcK1C"
   },
   "source": [
    "SELECT DISTINCT DEPARTMENT ,LENGTH(DEPARTMENT) FROM WORKER;\n"
   ]
  },
  {
   "cell_type": "markdown",
   "metadata": {
    "id": "uKcCdBB6cVrS"
   },
   "source": [
    "**Q-3. Write an SQL query to fetch nth max salaries from a table.**"
   ]
  },
  {
   "cell_type": "markdown",
   "metadata": {
    "id": "tWeI5zVocaba"
   },
   "source": [
    "1. SELECT * FROM (select SALARY, DENSE_RANK() \n",
    "OVER(partition by DEPARTMENT order by  SALARY )as 'dense_rank'  FROM WORKER) as test\n",
    "WHERE 'dense_rank' = 2;\n"
   ]
  },
  {
   "cell_type": "markdown",
   "metadata": {
    "id": "dxzADKVJcVQQ"
   },
   "source": [
    "2. select SALARY, DENSE_RANK() \n",
    "OVER(partition by DEPARTMENT ORDER by  SALARY DESC )'dense_rank'  \n",
    "FROM WORKER;"
   ]
  },
  {
   "cell_type": "markdown",
   "metadata": {
    "id": "xMsbQQkE0H-8"
   },
   "source": []
  }
 ],
 "metadata": {
  "colab": {
   "collapsed_sections": [],
   "name": "ASSIGNMENT_3_SQL.ipynb",
   "provenance": []
  },
  "kernelspec": {
   "display_name": "Python 3 (ipykernel)",
   "language": "python",
   "name": "python3"
  },
  "language_info": {
   "codemirror_mode": {
    "name": "ipython",
    "version": 3
   },
   "file_extension": ".py",
   "mimetype": "text/x-python",
   "name": "python",
   "nbconvert_exporter": "python",
   "pygments_lexer": "ipython3",
   "version": "3.9.7"
  }
 },
 "nbformat": 4,
 "nbformat_minor": 1
}

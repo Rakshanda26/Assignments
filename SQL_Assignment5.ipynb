{
 "cells": [
  {
   "cell_type": "markdown",
   "metadata": {
    "id": "KRQrvaKpZEIW"
   },
   "source": [
    "**Q-1. Write an SQL query to print details of workers excluding first names, “Vipul” and\n",
    "“Satish” from Worker table.**"
   ]
  },
  {
   "cell_type": "markdown",
   "metadata": {
    "id": "MgGfTrP-ZIkQ"
   },
   "source": [
    "Select * from Worker where FIRST_NAME not in ('Vipul','Satish');"
   ]
  },
  {
   "cell_type": "markdown",
   "metadata": {
    "id": "mbCMO9s0ZLS9"
   },
   "source": [
    "**Q-2. Write an SQL query to print details of the Workers whose FIRST_NAME ends with\n",
    "‘h’ and contains six alphabets.**"
   ]
  },
  {
   "cell_type": "markdown",
   "metadata": {
    "id": "fjNyrdP7ZU4N"
   },
   "source": [
    "Select * from Worker where FIRST_NAME like '_____h';"
   ]
  },
  {
   "cell_type": "markdown",
   "metadata": {
    "id": "8Mn7rJshZdnt"
   },
   "source": [
    "**Q-3. Write a query to validate Email of Employee.**"
   ]
  },
  {
   "cell_type": "markdown",
   "metadata": {
    "id": "J3gmu7mrZ0ig"
   },
   "source": [
    "select * from Worker where Email like '%@%';"
   ]
  },
  {
   "cell_type": "code",
   "execution_count": null,
   "metadata": {
    "id": "1zr4crHOY81O"
   },
   "outputs": [],
   "source": []
  }
 ],
 "metadata": {
  "colab": {
   "collapsed_sections": [],
   "name": "Assignment_5_SQL.ipynb",
   "provenance": []
  },
  "kernelspec": {
   "display_name": "Python 3 (ipykernel)",
   "language": "python",
   "name": "python3"
  },
  "language_info": {
   "codemirror_mode": {
    "name": "ipython",
    "version": 3
   },
   "file_extension": ".py",
   "mimetype": "text/x-python",
   "name": "python",
   "nbconvert_exporter": "python",
   "pygments_lexer": "ipython3",
   "version": "3.9.7"
  }
 },
 "nbformat": 4,
 "nbformat_minor": 1
}

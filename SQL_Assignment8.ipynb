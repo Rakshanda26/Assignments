{
 "cells": [
  {
   "cell_type": "markdown",
   "metadata": {},
   "source": [
    "**Q-15. Write an SQL query to fetch intersecting records of two tables.**"
   ]
  },
  {
   "cell_type": "markdown",
   "metadata": {},
   "source": [
    "1. SELECT  FROM table_1 INTERSECT SELECT  FROM table_2;\n",
    "\n",
    "2. select C.*,S.* FROM WORKER C INNER JOIN CLONEWORKER S ON C.WORKER_ID = S.WORKER_ID;"
   ]
  },
  {
   "cell_type": "markdown",
   "metadata": {},
   "source": [
    "**Q-16. Write an SQL query to show records from one table that another table does not have.**"
   ]
  },
  {
   "cell_type": "markdown",
   "metadata": {},
   "source": [
    "SELECT * FROM table_1 EXCEPT SELECT * FROM table_2;"
   ]
  },
  {
   "cell_type": "markdown",
   "metadata": {},
   "source": [
    "\n",
    "select C.*,S.* FROM WORKER C LEFT JOIN CLONEWORKER S ON C.WORKER_ID = S.WORKER_ID;"
   ]
  },
  {
   "cell_type": "code",
   "execution_count": null,
   "metadata": {},
   "outputs": [],
   "source": []
  }
 ],
 "metadata": {
  "kernelspec": {
   "display_name": "Python 3 (ipykernel)",
   "language": "python",
   "name": "python3"
  },
  "language_info": {
   "codemirror_mode": {
    "name": "ipython",
    "version": 3
   },
   "file_extension": ".py",
   "mimetype": "text/x-python",
   "name": "python",
   "nbconvert_exporter": "python",
   "pygments_lexer": "ipython3",
   "version": "3.9.7"
  },
  "vscode": {
   "interpreter": {
    "hash": "e8ba3a1bb44c1a4f8b5f1b27f8dd88437a8e80b3c7cf8d69673cfa7e2c2a7bac"
   }
  }
 },
 "nbformat": 4,
 "nbformat_minor": 2
}

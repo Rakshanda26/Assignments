{
 "cells": [
  {
   "cell_type": "markdown",
   "metadata": {},
   "source": [
    "**13. Write an SQL query to show only odd rows from a table.**"
   ]
  },
  {
   "cell_type": "markdown",
   "metadata": {},
   "source": [
    "SELECT * FROM Worker Where MOD(worker_id,2) = 1"
   ]
  },
  {
   "cell_type": "markdown",
   "metadata": {},
   "source": [
    "**14. Write an SQL query to clone a new table from another table.**"
   ]
  },
  {
   "cell_type": "markdown",
   "metadata": {},
   "source": [
    "CREATE TABLE CloneWorker \n",
    "\n",
    "(\n",
    "    WORKER_ID INT NOT NULL AUTO INCREMENT PRIMARY KEY,\n",
    "\n",
    "    FIRST_NAME VARCHAR(50),\n",
    "\n",
    "    LAST_NAME VARCHAR(50),\n",
    "\n",
    "    SALARY INT,\n",
    "\n",
    "    DEPARTMENT VARCHAR(50),\n",
    "    \n",
    "    JOINING_DATE DATETIME\n",
    "    \n",
    ");\n",
    "\n",
    "INSERT INTO CloneWorker SELECT * FROM Worker;"
   ]
  },
  {
   "cell_type": "markdown",
   "metadata": {},
   "source": []
  },
  {
   "cell_type": "code",
   "execution_count": null,
   "metadata": {},
   "outputs": [],
   "source": []
  }
 ],
 "metadata": {
  "kernelspec": {
   "display_name": "Python 3 (ipykernel)",
   "language": "python",
   "name": "python3"
  },
  "language_info": {
   "codemirror_mode": {
    "name": "ipython",
    "version": 3
   },
   "file_extension": ".py",
   "mimetype": "text/x-python",
   "name": "python",
   "nbconvert_exporter": "python",
   "pygments_lexer": "ipython3",
   "version": "3.9.7"
  },
  "vscode": {
   "interpreter": {
    "hash": "6d1e45cadc3597bb8b6600530fbdf8c3eefe919a24ef54d9d32b318795b772e0"
   }
  }
 },
 "nbformat": 4,
 "nbformat_minor": 2
}

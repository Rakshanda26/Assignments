{
 "cells": [
  {
   "cell_type": "markdown",
   "metadata": {
    "id": "SdLyRtF5gj0X"
   },
   "source": [
    "**1.How many seconds are in an hour? Use the interactive interpreter as a calculator and multiply the\n",
    "number of seconds in a minute (60) by the number of minutes in an hour (also 60).**"
   ]
  },
  {
   "cell_type": "code",
   "execution_count": 1,
   "metadata": {
    "colab": {
     "base_uri": "https://localhost:8080/"
    },
    "id": "mheBCJMEnywg",
    "outputId": "9d0bcbf0-cbeb-4286-b183-402d801caa50"
   },
   "outputs": [
    {
     "name": "stdout",
     "output_type": "stream",
     "text": [
      "3600 seconds in an hour\n"
     ]
    }
   ],
   "source": [
    "seconds_in_a_minute = 60\n",
    "minutes_per_hour = 60\n",
    "print(seconds_in_a_minute * minutes_per_hour, \"seconds in an hour\")"
   ]
  },
  {
   "cell_type": "markdown",
   "metadata": {
    "id": "4TlEfeR0g0hd"
   },
   "source": [
    "**2. Assign the result from the previous task (seconds in an hour) to a variable called\n",
    "seconds_per_hour.**"
   ]
  },
  {
   "cell_type": "code",
   "execution_count": 7,
   "metadata": {
    "id": "jYfF5bMNgsQQ"
   },
   "outputs": [],
   "source": [
    "seconds_per_hour = seconds_in_a_minute * minutes_per_hour"
   ]
  },
  {
   "cell_type": "code",
   "execution_count": 8,
   "metadata": {
    "colab": {
     "base_uri": "https://localhost:8080/"
    },
    "id": "SiYw7pEcg80m",
    "outputId": "ea9e5ee9-f2e0-4c23-d477-3668b2422aff"
   },
   "outputs": [
    {
     "data": {
      "text/plain": [
       "3600"
      ]
     },
     "execution_count": 8,
     "metadata": {},
     "output_type": "execute_result"
    }
   ],
   "source": [
    "seconds_per_hour"
   ]
  },
  {
   "cell_type": "markdown",
   "metadata": {
    "id": "86nUNuYcg-ym"
   },
   "source": [
    "**3. How many seconds do you think there are in a day? Make use of the variables seconds per hour\n",
    "and minutes per hour.**"
   ]
  },
  {
   "cell_type": "code",
   "execution_count": 11,
   "metadata": {
    "colab": {
     "base_uri": "https://localhost:8080/"
    },
    "id": "sslEcjVPhIpe",
    "outputId": "d5a263b3-291c-40ec-ab47-dfb6e87fa962"
   },
   "outputs": [
    {
     "name": "stdout",
     "output_type": "stream",
     "text": [
      "86400 seconds in a day\n"
     ]
    }
   ],
   "source": [
    "print(24 * minutes_per_hour * seconds_in_a_minute, \"seconds in a day\")"
   ]
  },
  {
   "cell_type": "markdown",
   "metadata": {
    "id": "eXHxxvariMhq"
   },
   "source": [
    "**4. Calculate seconds per day again, but this time save the result in a variable called seconds_per_day**"
   ]
  },
  {
   "cell_type": "code",
   "execution_count": 12,
   "metadata": {
    "id": "nSJS1bUFiFGp"
   },
   "outputs": [],
   "source": [
    "seconds_per_day = 24 * minutes_per_hour * seconds_in_a_minute"
   ]
  },
  {
   "cell_type": "markdown",
   "metadata": {
    "id": "6hrmcb5wiXKh"
   },
   "source": [
    "**5. Divide seconds_per_day by seconds_per_hour. Use floating-point (/) division.**"
   ]
  },
  {
   "cell_type": "code",
   "execution_count": 13,
   "metadata": {
    "colab": {
     "base_uri": "https://localhost:8080/"
    },
    "id": "RVW66ZlbiTl2",
    "outputId": "397b1090-aba2-4b60-940f-d002d0b2e610"
   },
   "outputs": [
    {
     "data": {
      "text/plain": [
       "24.0"
      ]
     },
     "execution_count": 13,
     "metadata": {},
     "output_type": "execute_result"
    }
   ],
   "source": [
    "seconds_per_day/seconds_per_hour"
   ]
  },
  {
   "cell_type": "markdown",
   "metadata": {
    "id": "kg5-kbY8iovx"
   },
   "source": [
    "**6. Divide seconds_per_day by seconds_per_hour, using integer (//) division. Did this number agree\n",
    "with the floating-point value from the previous question, aside from the final .0?**"
   ]
  },
  {
   "cell_type": "code",
   "execution_count": 14,
   "metadata": {
    "colab": {
     "base_uri": "https://localhost:8080/"
    },
    "id": "yN4QyzsAibi9",
    "outputId": "7b1c57ab-abcf-4e92-ca26-c52e4ff8bd18"
   },
   "outputs": [
    {
     "data": {
      "text/plain": [
       "24"
      ]
     },
     "execution_count": 14,
     "metadata": {},
     "output_type": "execute_result"
    }
   ],
   "source": [
    "seconds_per_day//seconds_per_hour"
   ]
  },
  {
   "cell_type": "markdown",
   "metadata": {
    "id": "xJ75Q-EeitLp"
   },
   "source": [
    "yes, this number agree with the floating point value from the previous question without .0"
   ]
  },
  {
   "cell_type": "markdown",
   "metadata": {
    "id": "ec0JATROi4Fq"
   },
   "source": [
    "**7. Write a generator, genPrimes, that returns the sequence of prime numbers on successive calls to\n",
    "its next() method: 2, 3, 5, 7, 11, ...**"
   ]
  },
  {
   "cell_type": "code",
   "execution_count": 25,
   "metadata": {
    "id": "C1dFFjybiruQ"
   },
   "outputs": [],
   "source": [
    "def genPrimes():\n",
    "    primes = []   # primes generated so far\n",
    "    last = 1      # last number tried\n",
    "    while True:\n",
    "        last += 1\n",
    "        for p in primes:\n",
    "            if last % p == 0:\n",
    "                break\n",
    "        else:\n",
    "            primes.append(last)\n",
    "            yield last\n",
    "\n"
   ]
  },
  {
   "cell_type": "code",
   "execution_count": 26,
   "metadata": {
    "id": "qH1tknknkONa"
   },
   "outputs": [],
   "source": [
    "p = genPrimes()"
   ]
  },
  {
   "cell_type": "code",
   "execution_count": 27,
   "metadata": {
    "colab": {
     "base_uri": "https://localhost:8080/"
    },
    "id": "U5G5ELTokSdh",
    "outputId": "042791c9-eb59-437d-8630-2d3ca3e363fb"
   },
   "outputs": [
    {
     "name": "stdout",
     "output_type": "stream",
     "text": [
      "2\n",
      "3\n",
      "5\n",
      "7\n",
      "11\n",
      "13\n",
      "17\n",
      "19\n",
      "23\n",
      "29\n"
     ]
    }
   ],
   "source": [
    "for i in range(10):\n",
    "  print(next(p))"
   ]
  },
  {
   "cell_type": "code",
   "execution_count": null,
   "metadata": {
    "id": "fHqcwZ8KkUIZ"
   },
   "outputs": [],
   "source": []
  }
 ],
 "metadata": {
  "colab": {
   "collapsed_sections": [],
   "name": "assignment_15.ipynb",
   "provenance": []
  },
  "kernelspec": {
   "display_name": "Python 3 (ipykernel)",
   "language": "python",
   "name": "python3"
  },
  "language_info": {
   "codemirror_mode": {
    "name": "ipython",
    "version": 3
   },
   "file_extension": ".py",
   "mimetype": "text/x-python",
   "name": "python",
   "nbconvert_exporter": "python",
   "pygments_lexer": "ipython3",
   "version": "3.9.7"
  }
 },
 "nbformat": 4,
 "nbformat_minor": 1
}
